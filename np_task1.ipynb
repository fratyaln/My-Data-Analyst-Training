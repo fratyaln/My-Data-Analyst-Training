{
 "cells": [
  {
   "cell_type": "markdown",
   "metadata": {},
   "source": [
    "**Create Arrays**\n",
    "\n",
    "* Create a 1D array of numbers from 0 to 9.\n",
    "* Create a 2D array (3x3) filled with random numbers.\n",
    "* Create an array of 10 ones and an array of 10 zeros."
   ]
  },
  {
   "cell_type": "code",
   "execution_count": 1,
   "metadata": {},
   "outputs": [],
   "source": [
    "import numpy as np"
   ]
  },
  {
   "cell_type": "code",
   "execution_count": 2,
   "metadata": {},
   "outputs": [
    {
     "name": "stdout",
     "output_type": "stream",
     "text": [
      "[1 2 3 4 5 6 7 8 9]\n",
      "[[ 3 54 35]\n",
      " [ 4 34 88]\n",
      " [ 5 99 64]]\n",
      "[1. 1. 1. 1. 1. 1. 1. 1. 1. 1.]\n",
      "[0. 0. 0. 0. 0. 0. 0. 0. 0. 0.]\n"
     ]
    }
   ],
   "source": [
    "# 1D array oof number froom 0 to 9\n",
    "v=np.arange(1,10)\n",
    "print(v)\n",
    "\n",
    "# 2D array (3x3) filled with random numbers\n",
    "m=np.random.randint(100,size=(3,3))\n",
    "print(m)\n",
    "\n",
    "#an array of 10 ones and an array of 10 zeros.\n",
    "ones=np.ones(10)\n",
    "print(ones)\n",
    "zeros=np.zeros(10)\n",
    "print(zeros)"
   ]
  },
  {
   "cell_type": "markdown",
   "metadata": {},
   "source": [
    "**Basic Operations**\n",
    "* Add, subtract, multiply, and divide two NumPy arrays element-wise.\n",
    "* Find the mean, median, standard deviation, and variance of an array.\n",
    "* Sort an array in ascending and descending order."
   ]
  },
  {
   "cell_type": "code",
   "execution_count": 3,
   "metadata": {},
   "outputs": [
    {
     "name": "stdout",
     "output_type": "stream",
     "text": [
      "[ 4 11  8 15 12]\n",
      "[-2 -7 -2  1  8]\n",
      "[ 3 18 15 56 20]\n",
      "[0.33333333 0.22222222 0.6        1.14285714 5.        ]\n"
     ]
    }
   ],
   "source": [
    "# Add, subtract, multiply, and divide two NumPy arrays element-wise.\n",
    "v=np.array([1,2,3,8,10])\n",
    "m=np.array([3,9,5,7,2])\n",
    "a=np.add(v,m)\n",
    "print(np.add(v,m))\n",
    "print(np.subtract(v,m))\n",
    "print(np.multiply(v,m))\n",
    "print(np.divide(v,m))\n"
   ]
  },
  {
   "cell_type": "code",
   "execution_count": 4,
   "metadata": {},
   "outputs": [
    {
     "name": "stdout",
     "output_type": "stream",
     "text": [
      "4.8\n",
      "5.0\n"
     ]
    }
   ],
   "source": [
    "# Find the mean, median, standard deviation, and variance of an array.\n",
    "print(v.mean())\n",
    "print(np.median(m))"
   ]
  },
  {
   "cell_type": "code",
   "execution_count": 5,
   "metadata": {},
   "outputs": [
    {
     "name": "stdout",
     "output_type": "stream",
     "text": [
      "[ 1  2  3  8 10]\n",
      "[10  8  3  2  1]\n"
     ]
    }
   ],
   "source": [
    "# Sort an array in ascending and descending order.\n",
    "print(np.sort(v))\n",
    "print(np.sort(v)[::-1])"
   ]
  },
  {
   "cell_type": "markdown",
   "metadata": {},
   "source": [
    "**Indexing & Slicing**\n",
    "\n",
    "* Extract the first 5 elements from a given array.\n",
    "* Get all even numbers from an array.\n",
    "* Replace all values greater than 5 in an array with 0."
   ]
  },
  {
   "cell_type": "code",
   "execution_count": 6,
   "metadata": {},
   "outputs": [
    {
     "name": "stdout",
     "output_type": "stream",
     "text": [
      "[22 20 24 36 38  8 39 33 27 32]\n",
      "[22 20 24 36 38]\n",
      "[22 20 24 36 38  8 32]\n",
      "[0 0 0 0 0 0 0 0 0 0]\n"
     ]
    }
   ],
   "source": [
    "# Extract the first 5 elements from a given array.\n",
    "v=np.random.randint(50,size=10)\n",
    "print(v)\n",
    "print(v[:5])\n",
    "# Get all even numbers from an array.\n",
    "print(v[v%2==0])\n",
    "# Replace all values greater than 5 in an array with 0.\n",
    "new_v=np.where(v>5,0,v)\n",
    "print(new_v)\n"
   ]
  },
  {
   "cell_type": "code",
   "execution_count": 7,
   "metadata": {},
   "outputs": [
    {
     "name": "stdout",
     "output_type": "stream",
     "text": [
      "[[ 0  1  2]\n",
      " [ 3  4  5]\n",
      " [ 6  7  8]\n",
      " [ 9 10 11]]\n"
     ]
    }
   ],
   "source": [
    "# Convert a 1D Array into a 2D Matrix of Shape (4,3)\n",
    "\n",
    "v = np.arange(12)  \n",
    "m = v.reshape(4, 3)\n",
    "\n",
    "print(m)"
   ]
  },
  {
   "cell_type": "code",
   "execution_count": 8,
   "metadata": {},
   "outputs": [
    {
     "name": "stdout",
     "output_type": "stream",
     "text": [
      "[0 2 0 4 0 0 0 7 3 0]\n"
     ]
    }
   ],
   "source": [
    "# Replace Negative Values with 0\n",
    "\n",
    "arr = np.random.randint(-10, 10, size=10)\n",
    "arr[arr < 0] = 0  \n",
    "\n",
    "print(arr)\n"
   ]
  }
 ],
 "metadata": {
  "kernelspec": {
   "display_name": "Python 3",
   "language": "python",
   "name": "python3"
  },
  "language_info": {
   "codemirror_mode": {
    "name": "ipython",
    "version": 3
   },
   "file_extension": ".py",
   "mimetype": "text/x-python",
   "name": "python",
   "nbconvert_exporter": "python",
   "pygments_lexer": "ipython3",
   "version": "3.12.2"
  }
 },
 "nbformat": 4,
 "nbformat_minor": 2
}
